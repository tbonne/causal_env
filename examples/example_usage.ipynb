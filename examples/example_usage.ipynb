{
 "cells": [
  {
   "cell_type": "markdown",
   "metadata": {},
   "source": [
    "Need to install the package each time it gets updated.\n",
    "\n",
    "From the root directory of the package:\n",
    "```pip install -e .```\n"
   ]
  },
  {
   "cell_type": "code",
   "execution_count": 1,
   "metadata": {},
   "outputs": [
    {
     "name": "stdout",
     "output_type": "stream",
     "text": [
      "Initial state: {'X': 0, 'Y': 0, 'Z': 0}\n",
      "Next state: {'X': 0.17226530313401764, 'Y': 0.9339246395433773, 'Z': 1.2000683343762675}\n",
      "Next state: {'X': -1.0363137329328098, 'Y': -2.4077752416580824, 'Z': -3.0617403475600264}\n",
      "Next state: {'X': -0.5046038833010366, 'Y': -0.47399129567150033, 'Z': -2.1924408741315125}\n",
      "Intervened state: {'X': 5, 'Y': 10.536206953077304, 'Z': 14.133164217075276}\n"
     ]
    }
   ],
   "source": [
    "from causal_env import CausalEnvironment\n",
    "import networkx as nx\n",
    "import numpy as np\n",
    "\n",
    "dag = nx.DiGraph()\n",
    "dag.add_edges_from([(\"X\", \"Y\"), (\"Y\", \"Z\"), (\"X\", \"Z\")])\n",
    "\n",
    "structural_equations = {\n",
    "    \"X\": lambda: np.random.normal(0, 1),\n",
    "    \"Y\": lambda X: 2 * X + np.random.normal(0, 1),\n",
    "    \"Z\": lambda X, Y: X + Y + np.random.normal(0, 1)\n",
    "}\n",
    "\n",
    "env = CausalEnvironment(dag, structural_equations)\n",
    "\n",
    "print(\"Initial state:\", env.state)\n",
    "for _ in range(3):\n",
    "    print(\"Next state:\", env.step())\n",
    "\n",
    "print(\"Intervened state:\", env.step(interventions={\"X\": 5}))\n"
   ]
  },
  {
   "cell_type": "code",
   "execution_count": null,
   "metadata": {},
   "outputs": [],
   "source": []
  }
 ],
 "metadata": {
  "kernelspec": {
   "display_name": "venv",
   "language": "python",
   "name": "python3"
  },
  "language_info": {
   "codemirror_mode": {
    "name": "ipython",
    "version": 3
   },
   "file_extension": ".py",
   "mimetype": "text/x-python",
   "name": "python",
   "nbconvert_exporter": "python",
   "pygments_lexer": "ipython3",
   "version": "3.9.7"
  }
 },
 "nbformat": 4,
 "nbformat_minor": 2
}
